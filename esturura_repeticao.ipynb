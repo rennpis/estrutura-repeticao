{
 "cells": [
  {
   "cell_type": "code",
   "execution_count": null,
   "metadata": {},
   "outputs": [],
   "source": [
    "# 1) Desenvolva um programa que verifique e mostre os números entre 1.000 e 2.000 que, quando divididos por 11, produzam o resto igual a 5.\n",
    "for num in range(1000, 2001):\n",
    "    if num % 11 == 5:\n",
    "        print(num)"
   ]
  },
  {
   "cell_type": "code",
   "execution_count": null,
   "metadata": {},
   "outputs": [],
   "source": [
    "# 2) Faça um programa que mostre as tabuadas dos números de 1 a 10.\n",
    "for num in range(1, 11):\n",
    "    print(f\"Tabuada do número {num}:\")\n",
    "    for i in range(1, 11):\n",
    "        resultado = num * i\n",
    "        print(f\"{num} x {i} = {resultado}\")\n",
    "    print()"
   ]
  },
  {
   "cell_type": "code",
   "execution_count": null,
   "metadata": {},
   "outputs": [],
   "source": [
    "# 3) Armazene os nomes de alguns de seus amigos em uma lista chamada amigos. Exiba o nome de cada pessoa acessando cada elemento da lista um de cada vez.\n",
    "amigos = [\"Victor\", \"Rafaela\", \"Leonardo\", \"Carol\", \"Letícia\", \"Tatiana\", \"Erica\"]\n",
    "\n",
    "# Exibição de nome\n",
    "for amigo in amigos:\n",
    "    print(amigo)\n"
   ]
  },
  {
   "cell_type": "code",
   "execution_count": 1,
   "metadata": {},
   "outputs": [],
   "source": [
    "# 4) Faça um programa que receba um número e que calcule e mostre a tabuada desse número.\n",
    "# Arquivo separado (bug no kernel jupyter)."
   ]
  },
  {
   "cell_type": "code",
   "execution_count": null,
   "metadata": {},
   "outputs": [],
   "source": [
    "# 5) Utilizando a lista do exercício anterior, exiba uma saudação (\"Olá como vai você\"), personalizado com o nome de cada amigo. A saudação deve ser a mesma, alterando apenas o nome do amigo.\n",
    "amigos = [\"Victor\", \"Rafaela\", \"Leonardo\", \"Carol\", \"Letícia\", \"Tatiana\", \"Erica\"]\n",
    "\n",
    "# Exibindo saudação personalizada para cada amigo\n",
    "for amigo in amigos:\n",
    "    saudacao = f\"Olá {amigo}, como vai você?\"\n",
    "    print(saudacao)"
   ]
  },
  {
   "cell_type": "code",
   "execution_count": null,
   "metadata": {},
   "outputs": [],
   "source": [
    "# 6) Seja criativo ao desenvolver este programa.\n",
    "\n",
    "# a) Crie uma lista de convidados para um jantar em sua casa, com pelo menos 5 celebridades.\n",
    "convidados = [\"Tom Cruise\", \"Beyoncé\", \"Brad Pitt\", \"Jennifer Aniston\", \"Leonardo DiCaprio\"]\n",
    "\n",
    "# b) Envie um convite para cada uma dessas pessoas. Com a mesma mensagem e nome personalizado.\n",
    "print(\"Enviando convites:\")\n",
    "mensagem_convite = \"E aí, {nome}! Só passei pra te convidar pra minha festa de aniversário. Seria muito bom te ver depois de tanto tempo. Vou ficar no aguardo da sua confirmação. Falou!\"\n",
    "\n",
    "for convidado in convidados:\n",
    "    convite = mensagem_convite.format(nome=convidado)\n",
    "    print(convite)\n",
    "\n",
    "# c) Sabendo que uma dessas pessoas não poderá ir ao seu jantar, você deverá enviar novos convites. Imprima o nome das pessoas que não poderão comparecer.\n",
    "nao_comparecerao = [\"Beyoncé\", \"Brad Pitt\", \"Jennifer Aniston\"]\n",
    "print(\"Pessoas que não poderão comparecer:\")\n",
    "print('')\n",
    "for pessoa in nao_comparecerao:\n",
    "    print(pessoa)\n",
    "\n",
    "# d) Modifique sua lista, substitua os desistentes por novos convidados.\n",
    "convidados[0] = \"Robert Downey Jr.\"\n",
    "convidados[1] = \"Oscar Isaac\" \n",
    "convidados[3] =\"Margot Robbie\"\n",
    "\n",
    "# e) Exiba um novo convite para cada pessoa que continua presente em sua lista.\n",
    "print(\"\\nNovos convites:\")\n",
    "for convidado in convidados:\n",
    "    convite = mensagem_convite.format(nome=convidado)\n",
    "    print(convite)"
   ]
  },
  {
   "cell_type": "code",
   "execution_count": 11,
   "metadata": {},
   "outputs": [],
   "source": [
    "# 7) Faça um cadastro de usuários com nome, idade e email, utilizando apenas o que você aprendeu até agora.\n",
    "\n",
    "# Arquivo separado (bug no kernel jupyter)\n"
   ]
  }
 ],
 "metadata": {
  "kernelspec": {
   "display_name": "Python 3",
   "language": "python",
   "name": "python3"
  },
  "language_info": {
   "codemirror_mode": {
    "name": "ipython",
    "version": 3
   },
   "file_extension": ".py",
   "mimetype": "text/x-python",
   "name": "python",
   "nbconvert_exporter": "python",
   "pygments_lexer": "ipython3",
   "version": "3.11.2"
  },
  "orig_nbformat": 4
 },
 "nbformat": 4,
 "nbformat_minor": 2
}
